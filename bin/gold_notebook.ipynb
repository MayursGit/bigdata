{
 "cells": [
  {
   "cell_type": "code",
   "execution_count": 0,
   "metadata": {
    "application/vnd.databricks.v1+cell": {
     "cellMetadata": {
      "byteLimit": 2048000,
      "rowLimit": 10000
     },
     "inputWidgets": {},
     "nuid": "82346264-9f43-4014-b996-ad9bbfe493f2",
     "showTitle": false,
     "tableResultSettingsMap": {},
     "title": ""
    }
   },
   "outputs": [],
   "source": [
    "from pyspark.sql.functions import *\n",
    "from pyspark.sql.types import *"
   ]
  },
  {
   "cell_type": "code",
   "execution_count": 0,
   "metadata": {
    "application/vnd.databricks.v1+cell": {
     "cellMetadata": {
      "byteLimit": 2048000,
      "rowLimit": 10000
     },
     "inputWidgets": {},
     "nuid": "ac26cd64-97b3-4a36-9660-634177380f06",
     "showTitle": false,
     "tableResultSettingsMap": {},
     "title": ""
    }
   },
   "outputs": [],
   "source": [
    "import sys,json,yaml,os\n",
    "sys.path.append(\"/Workspace/Users/mayur10594@gmail.com/ETL_project\")\n",
    "from config.utils import get_logger,load_config,load_all_schemas,load_sqls\n",
    "logger = get_logger(\"dataloadinitiate\")\n",
    "base_path='/Workspace/Users/mayur10594@gmail.com/ETL_project/'\n",
    "from gold_transformations.debit_transactions_extract import *\n",
    "from config.utils import run_scd_type2"
   ]
  },
  {
   "cell_type": "code",
   "execution_count": 0,
   "metadata": {
    "application/vnd.databricks.v1+cell": {
     "cellMetadata": {
      "byteLimit": 2048000,
      "rowLimit": 10000
     },
     "inputWidgets": {},
     "nuid": "dbb8abac-7b25-4808-8b02-eadf30a07f99",
     "showTitle": false,
     "tableResultSettingsMap": {},
     "title": ""
    }
   },
   "outputs": [],
   "source": [
    "dbutils.widgets.text(\"fileList\", \"\")\n",
    "dbutils.widgets.text(\"taxYear\", \"\")\n",
    "dbutils.widgets.text(\"clientId\", \"\")\n",
    "dbutils.widgets.text(\"env\",\"\")\n",
    "dbutils.widgets.text(\"bronze_path\", \"\")\n",
    "dbutils.widgets.text(\"maps\",\"\")\n",
    "fileList = dbutils.widgets.get(\"fileList\")\n",
    "taxYear = dbutils.widgets.get(\"taxYear\")\n",
    "clientId = dbutils.widgets.get(\"clientId\")\n",
    "env = dbutils.widgets.get(\"env\")\n",
    "bronze_path = dbutils.widgets.get(\"bronze_path\")\n",
    "maps=json.loads(dbutils.widgets.get(\"maps\"))\n",
    "logger.info(f\"fileList: {fileList}, taxYear: {taxYear}, clientId: {clientId}, env: {env}, bronze_path: {bronze_path}, maps to be loaded: {maps}\")"
   ]
  },
  {
   "cell_type": "code",
   "execution_count": 0,
   "metadata": {
    "application/vnd.databricks.v1+cell": {
     "cellMetadata": {
      "byteLimit": 2048000,
      "rowLimit": 10000
     },
     "inputWidgets": {},
     "nuid": "4b144606-c8ee-4135-b9c3-fb6f854fedb2",
     "showTitle": false,
     "tableResultSettingsMap": {},
     "title": ""
    }
   },
   "outputs": [],
   "source": [
    "# Dictionary to hold DataFrames\n",
    "dfs = {}\n",
    "# create dataframe for all the maps\n",
    "for map_name in maps:\n",
    "    table=f\"cp_database.{clientId}_{map_name}\"\n",
    "    df = spark.read.table(table)\n",
    "    dfs[map_name] = df\n",
    "    #print(f\"df_{map_name} is created and stored in dfs['{map_name}']\")\n",
    "    logger.info(f\"df_{map_name} is created and stored in dfs['{map_name}']\")"
   ]
  },
  {
   "cell_type": "code",
   "execution_count": 0,
   "metadata": {
    "application/vnd.databricks.v1+cell": {
     "cellMetadata": {
      "byteLimit": 2048000,
      "rowLimit": 10000
     },
     "inputWidgets": {},
     "nuid": "65a2ab18-84c6-4577-96ec-986575267af6",
     "showTitle": false,
     "tableResultSettingsMap": {},
     "title": ""
    }
   },
   "outputs": [],
   "source": [
    "env_config=load_config(f\"{base_path}/config/etl_main.yaml\",env)\n",
    "sqls_config=load_config(f\"{base_path}/config/gold_config.yaml\",env)"
   ]
  },
  {
   "cell_type": "code",
   "execution_count": 0,
   "metadata": {
    "application/vnd.databricks.v1+cell": {
     "cellMetadata": {
      "byteLimit": 2048000,
      "rowLimit": 10000
     },
     "inputWidgets": {},
     "nuid": "2b8d0db5-49d6-49bb-9b93-de26d30bf5f8",
     "showTitle": false,
     "tableResultSettingsMap": {
      "0": {
       "dataGridStateBlob": "{\"version\":1,\"tableState\":{\"columnPinning\":{\"left\":[\"#row_number#\"],\"right\":[]},\"columnSizing\":{},\"columnVisibility\":{}},\"settings\":{\"columns\":{}},\"syncTimestamp\":1759431061697}",
       "filterBlob": null,
       "queryPlanFiltersBlob": null,
       "tableResultIndex": 0
      }
     },
     "title": ""
    }
   },
   "outputs": [],
   "source": [
    "config_path='/Workspace/Users/mayur10594@gmail.com/ETL_project/config/gold_config.yaml'\n",
    "with open(config_path, \"r\") as f:\n",
    "    sqls_cfg = yaml.safe_load(f)"
   ]
  },
  {
   "cell_type": "code",
   "execution_count": 0,
   "metadata": {
    "application/vnd.databricks.v1+cell": {
     "cellMetadata": {
      "byteLimit": 2048000,
      "rowLimit": 10000
     },
     "inputWidgets": {},
     "nuid": "ba6815f0-d3d0-4a5d-91cc-2933c8254e30",
     "showTitle": false,
     "tableResultSettingsMap": {},
     "title": ""
    }
   },
   "outputs": [],
   "source": [
    "from pathlib import Path\n",
    "import importlib.util"
   ]
  },
  {
   "cell_type": "code",
   "execution_count": 0,
   "metadata": {
    "application/vnd.databricks.v1+cell": {
     "cellMetadata": {
      "byteLimit": 2048000,
      "rowLimit": 10000
     },
     "inputWidgets": {},
     "nuid": "b608fc15-36ac-4eab-983e-5215d0358268",
     "showTitle": false,
     "tableResultSettingsMap": {},
     "title": ""
    }
   },
   "outputs": [],
   "source": [
    "path = '/Workspace/Users/mayur10594@gmail.com/ETL_project/gold_transformations'\n",
    "extracts = []\n",
    "df_ext={}\n",
    "for map in maps:\n",
    "    dfs[map].createOrReplaceTempView(map)\n",
    "    print(f\"✅ Temp view created for {map}\")\n",
    "\n",
    "for map in maps:\n",
    "    # Register input DF as temp view\n",
    "    # dfs[map].createOrReplaceTempView(map)\n",
    "    # print(f\"✅ Temp view created for {map}\")\n",
    "    print(f\"▶️ Started extract for {map}\")\n",
    "\n",
    "    sqls = sqls_config[map].get('sqls',[])\n",
    "    transformations=sqls_config[map].get('transformations',[])\n",
    "    trans_inputs=sqls_config[map].get('trans_inputs',[])\n",
    "    input_dfs = [dfs[name] for name in trans_inputs]\n",
    "    for sql_file in sqls:\n",
    "        df_name = f\"{map}_{sql_file.split('.')[0]}\"   # string name\n",
    "        extracts.append(df_name)\n",
    "        print(f\"▶️ Creating {df_name} dataframe\")\n",
    "        print(f\"▶️ Running SQL for {map}: {sql_file}\")\n",
    "        # Load the SQL text\n",
    "        sql_query = load_sqls(f\"{base_path}gold_transformations\", sql_file)\n",
    "        print(sql_query)\n",
    "        # Run SQL and store DF in dictionary\n",
    "        df_ext[df_name] = spark.sql(sql_query)\n",
    "        df_ext[df_name].write.format(\"parquet\").mode('overwrite').save(f\"{env_config['gold_path']}extracts/{map}/{sql_file}\")\n",
    "    for trans_file in transformations:\n",
    "        print(f\"▶️ Running transformation for {map}: {trans_file}\")\n",
    "        df_name = f\"{map}_{trans_file.split('.')[0]}\"   # string name\n",
    "        extracts.append(df_name)\n",
    "        print(f\"▶️ Creating {df_name} dataframe\")\n",
    "        print(f\"▶️ Running transformation for {map}: {trans_file}\")\n",
    "        trans_folder = Path(\"../gold_transformations/\")\n",
    "        # Transformation filename from YAML\n",
    "        script_path = Path(trans_folder / trans_file)\n",
    "        spec = importlib.util.spec_from_file_location(script_path.stem, script_path)\n",
    "        module = importlib.util.module_from_spec(spec)\n",
    "        spec.loader.exec_module(module)\n",
    "        # Get function object (assume function name = filename without .py)\n",
    "        func = getattr(module, script_path.stem)\n",
    "        df_ext[df_name]=func(*input_dfs)\n",
    "        df_ext[df_name].write.format(\"parquet\").mode('overwrite').save(f\"{env_config['gold_path']}extracts/{map}/{trans_file}\")\n",
    " \n",
    "\n",
    "print(\"✅ Extracts created:\", extracts)\n"
   ]
  },
  {
   "cell_type": "code",
   "execution_count": 0,
   "metadata": {
    "application/vnd.databricks.v1+cell": {
     "cellMetadata": {
      "byteLimit": 2048000,
      "rowLimit": 10000
     },
     "inputWidgets": {},
     "nuid": "4687f084-7fea-462c-8cab-2a5d65bca9c0",
     "showTitle": false,
     "tableResultSettingsMap": {},
     "title": ""
    }
   },
   "outputs": [],
   "source": [
    "df_ext['users_users_extract']=df_ext['users_users_extract'].union(df_new)"
   ]
  },
  {
   "cell_type": "code",
   "execution_count": 0,
   "metadata": {
    "application/vnd.databricks.v1+cell": {
     "cellMetadata": {
      "byteLimit": 2048000,
      "rowLimit": 10000
     },
     "inputWidgets": {},
     "nuid": "063a4e99-b2fa-425a-8fc6-9d38856d205f",
     "showTitle": false,
     "tableResultSettingsMap": {},
     "title": ""
    }
   },
   "outputs": [],
   "source": []
  },
  {
   "cell_type": "code",
   "execution_count": 0,
   "metadata": {
    "application/vnd.databricks.v1+cell": {
     "cellMetadata": {
      "byteLimit": 2048000,
      "rowLimit": 10000
     },
     "inputWidgets": {},
     "nuid": "8fae3033-b11e-4c1e-bc61-a119f8f91d7b",
     "showTitle": false,
     "tableResultSettingsMap": {},
     "title": ""
    }
   },
   "outputs": [],
   "source": [
    "for name,df in df_ext.items():\n",
    "    if (name.split(\"_\")[0]=='cards') & (name.split(\"_\")[1]=='debit'):\n",
    "        print(\"this is for CardsDebit table\")\n",
    "        df_ext[name].write.mode(\"overwrite\").saveAsTable(f\"gold_database.{clientId}_CardsDebit\")\n",
    "    elif (name.split(\"_\")[0]=='cards') & (name.split(\"_\")[1]=='credit'):\n",
    "        print(\"this is for CardsCredit table\")\n",
    "        df_ext[name].write.mode(\"overwrite\").saveAsTable(f\"gold_database.{clientId}_CardsCredit\")\n",
    "    elif (name.split(\"_\")[0]=='transactions') & (name.split(\"_\")[1]=='debit'):\n",
    "        print(\"this is for TransDataDebit table\")\n",
    "        df_ext[name].write.mode(\"append\").saveAsTable(f\"gold_database.{clientId}_TransDataDebit\")\n",
    "    elif (name.split(\"_\")[0]=='transactions') & (name.split(\"_\")[1]=='credit'):\n",
    "        print(\"this is for TransDataCredit table\")\n",
    "        df_ext[name].write.mode(\"append\").saveAsTable(f\"gold_database.{clientId}_TransDataCredit\")\n",
    "    elif (name.split(\"_\")[0]=='transactions') & (name.split(\"_\")[1]=='transactions'):\n",
    "        print(\"this is for TransData table\")\n",
    "        df_ext[name].write.mode(\"append\").saveAsTable(f\"gold_database.{clientId}_TransData\")\n",
    "    elif name.split(\"_\")[0]=='users':\n",
    "        print(\"this is for Users table\")\n",
    "        run_scd_type2(\n",
    "            spark,\n",
    "            df_source=df_ext[name],\n",
    "            target_table_path=f\"gold_database.{clientId}_users\",\n",
    "            config_path=\"/Workspace/Users/mayur10594@gmail.com/ETL_project/config/scd_config.yaml\"\n",
    "            )\n",
    "        # df_ext[name].write.mode(\"overwrite\").saveAsTable(f\"gold_database.{clientId}_Users\")\n",
    "    else:\n",
    "        print(\"this is for something else, can not proceed for this dataframe\")\n",
    "print(\"All dataframes are written to gold_database\")"
   ]
  },
  {
   "cell_type": "code",
   "execution_count": 0,
   "metadata": {
    "application/vnd.databricks.v1+cell": {
     "cellMetadata": {},
     "inputWidgets": {},
     "nuid": "0c361b69-a6b5-4bf6-8abd-4409696e816a",
     "showTitle": false,
     "tableResultSettingsMap": {},
     "title": ""
    }
   },
   "outputs": [],
   "source": []
  }
 ],
 "metadata": {
  "application/vnd.databricks.v1+notebook": {
   "computePreferences": {
    "hardware": {
     "accelerator": null,
     "gpuPoolId": null,
     "memory": null
    }
   },
   "dashboards": [],
   "environmentMetadata": {
    "base_environment": "",
    "environment_version": "3"
   },
   "inputWidgetPreferences": null,
   "language": "python",
   "notebookMetadata": {
    "mostRecentlyExecutedCommandWithImplicitDF": {
     "commandId": 5689731240183976,
     "dataframes": [
      "_sqldf"
     ]
    },
    "pythonIndentUnit": 4
   },
   "notebookName": "gold_notebook",
   "widgets": {
    "bronze_path": {
     "currentValue": "",
     "nuid": "88e9e0a0-9bf4-4461-bb97-6288288f66a8",
     "typedWidgetInfo": {
      "autoCreated": false,
      "defaultValue": "",
      "label": null,
      "name": "bronze_path",
      "options": {
       "widgetDisplayType": "Text",
       "validationRegex": null
      },
      "parameterDataType": "String"
     },
     "widgetInfo": {
      "widgetType": "text",
      "defaultValue": "",
      "label": null,
      "name": "bronze_path",
      "options": {
       "widgetType": "text",
       "autoCreated": null,
       "validationRegex": null
      }
     }
    },
    "clientId": {
     "currentValue": "se2",
     "nuid": "8ea4d73b-46a9-41eb-b0ae-d9c4dc77c45a",
     "typedWidgetInfo": {
      "autoCreated": false,
      "defaultValue": "",
      "label": null,
      "name": "clientId",
      "options": {
       "widgetDisplayType": "Text",
       "validationRegex": null
      },
      "parameterDataType": "String"
     },
     "widgetInfo": {
      "widgetType": "text",
      "defaultValue": "",
      "label": null,
      "name": "clientId",
      "options": {
       "widgetType": "text",
       "autoCreated": null,
       "validationRegex": null
      }
     }
    },
    "env": {
     "currentValue": "dev",
     "nuid": "f430fc7d-3e70-4be9-ae58-a245a73c4565",
     "typedWidgetInfo": {
      "autoCreated": false,
      "defaultValue": "",
      "label": null,
      "name": "env",
      "options": {
       "widgetDisplayType": "Text",
       "validationRegex": null
      },
      "parameterDataType": "String"
     },
     "widgetInfo": {
      "widgetType": "text",
      "defaultValue": "",
      "label": null,
      "name": "env",
      "options": {
       "widgetType": "text",
       "autoCreated": null,
       "validationRegex": null
      }
     }
    },
    "fileList": {
     "currentValue": "",
     "nuid": "30b7a65a-e70f-4b89-93f3-923fe63af9a2",
     "typedWidgetInfo": {
      "autoCreated": false,
      "defaultValue": "",
      "label": null,
      "name": "fileList",
      "options": {
       "widgetDisplayType": "Text",
       "validationRegex": null
      },
      "parameterDataType": "String"
     },
     "widgetInfo": {
      "widgetType": "text",
      "defaultValue": "",
      "label": null,
      "name": "fileList",
      "options": {
       "widgetType": "text",
       "autoCreated": null,
       "validationRegex": null
      }
     }
    },
    "maps": {
     "currentValue": " [\"cards\", \"users\", \"transactions\"]",
     "nuid": "2bb9f2ce-c338-4b2e-ad71-c818c5d3b3ad",
     "typedWidgetInfo": {
      "autoCreated": false,
      "defaultValue": "",
      "label": null,
      "name": "maps",
      "options": {
       "widgetDisplayType": "Text",
       "validationRegex": null
      },
      "parameterDataType": "String"
     },
     "widgetInfo": {
      "widgetType": "text",
      "defaultValue": "",
      "label": null,
      "name": "maps",
      "options": {
       "widgetType": "text",
       "autoCreated": null,
       "validationRegex": null
      }
     }
    },
    "taxYear": {
     "currentValue": "2024",
     "nuid": "e7e6c8e4-eb5e-43a4-8822-3e2d51bda665",
     "typedWidgetInfo": {
      "autoCreated": false,
      "defaultValue": "",
      "label": null,
      "name": "taxYear",
      "options": {
       "widgetDisplayType": "Text",
       "validationRegex": null
      },
      "parameterDataType": "String"
     },
     "widgetInfo": {
      "widgetType": "text",
      "defaultValue": "",
      "label": null,
      "name": "taxYear",
      "options": {
       "widgetType": "text",
       "autoCreated": null,
       "validationRegex": null
      }
     }
    }
   }
  },
  "language_info": {
   "name": "python"
  }
 },
 "nbformat": 4,
 "nbformat_minor": 0
}
